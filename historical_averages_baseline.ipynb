{
 "cells": [
  {
   "cell_type": "code",
   "execution_count": 1,
   "metadata": {},
   "outputs": [],
   "source": [
    "import pandas as pd\n",
    "import datetime as dt\n",
    "import numpy as np\n",
    "import matplotlib.pyplot as plt\n",
    "import seaborn as sns\n",
    "import holidays\n",
    "from sklearn.metrics import mean_squared_error, mean_absolute_error\n",
    "import gc\n",
    "sns.set_theme(style=\"darkgrid\")"
   ]
  },
  {
   "cell_type": "code",
   "execution_count": 24,
   "metadata": {},
   "outputs": [],
   "source": [
    "load_df = pd.read_csv('data/load.csv')"
   ]
  },
  {
   "cell_type": "code",
   "execution_count": 79,
   "metadata": {},
   "outputs": [],
   "source": [
    "def df_formatting(load_df):\n",
    "    load_df = pd.melt(load_df, id_vars=[\"meter_id\", \"date\"], value_vars=load_df.columns.difference([\"meter_id\", \"date\"]), \n",
    "                                var_name=\"hour\", value_name=\"load\")\n",
    "    load_df[\"hour\"] = load_df[\"hour\"].str.strip(\"h\").astype(int) - 1\n",
    "    load_df[\"timestamp\"] = pd.to_datetime(load_df[\"date\"] + \" \" + load_df[\"hour\"].astype(str) + \":00:00\", format=\"%m/%d/%Y %H:%M:%S\")\n",
    "    load_df[\"meter_id\"] = load_df[\"meter_id\"].astype(int)\n",
    "    load_df['month'] = load_df['timestamp'].dt.month\n",
    "    load_df['day_of_week'] = load_df['timestamp'].dt.dayofweek\n",
    "    load_df['year'] = load_df['timestamp'].dt.year\n",
    "    load_df = load_df.drop(columns=[\"date\"])\n",
    "    return load_df\n",
    "\n",
    "data_df = df_formatting(load_df)"
   ]
  },
  {
   "cell_type": "code",
   "execution_count": 80,
   "metadata": {},
   "outputs": [],
   "source": [
    "def train_test_split(df):\n",
    "    train_df = df[df[\"year\"] < 2011]\n",
    "    test_df = df[df[\"year\"] == 2011]\n",
    "    train_df = train_df.drop(columns=[\"year\"])\n",
    "    test_df = test_df.drop(columns=[\"year\"])\n",
    "    return train_df, test_df\n",
    "train_df, test_df = train_test_split(data_df)"
   ]
  },
  {
   "cell_type": "code",
   "execution_count": 70,
   "metadata": {},
   "outputs": [
    {
     "data": {
      "text/html": [
       "<div>\n",
       "<style scoped>\n",
       "    .dataframe tbody tr th:only-of-type {\n",
       "        vertical-align: middle;\n",
       "    }\n",
       "\n",
       "    .dataframe tbody tr th {\n",
       "        vertical-align: top;\n",
       "    }\n",
       "\n",
       "    .dataframe thead th {\n",
       "        text-align: right;\n",
       "    }\n",
       "</style>\n",
       "<table border=\"1\" class=\"dataframe\">\n",
       "  <thead>\n",
       "    <tr style=\"text-align: right;\">\n",
       "      <th></th>\n",
       "      <th>meter_id</th>\n",
       "      <th>hour</th>\n",
       "      <th>load</th>\n",
       "      <th>month</th>\n",
       "      <th>day_of_week</th>\n",
       "    </tr>\n",
       "  </thead>\n",
       "  <tbody>\n",
       "    <tr>\n",
       "      <th>397218</th>\n",
       "      <td>499</td>\n",
       "      <td>0</td>\n",
       "      <td>0.0</td>\n",
       "      <td>5</td>\n",
       "      <td>6</td>\n",
       "    </tr>\n",
       "    <tr>\n",
       "      <th>397219</th>\n",
       "      <td>499</td>\n",
       "      <td>0</td>\n",
       "      <td>0.0</td>\n",
       "      <td>5</td>\n",
       "      <td>0</td>\n",
       "    </tr>\n",
       "    <tr>\n",
       "      <th>397220</th>\n",
       "      <td>499</td>\n",
       "      <td>0</td>\n",
       "      <td>0.0</td>\n",
       "      <td>5</td>\n",
       "      <td>1</td>\n",
       "    </tr>\n",
       "    <tr>\n",
       "      <th>397221</th>\n",
       "      <td>499</td>\n",
       "      <td>0</td>\n",
       "      <td>0.0</td>\n",
       "      <td>5</td>\n",
       "      <td>2</td>\n",
       "    </tr>\n",
       "    <tr>\n",
       "      <th>397222</th>\n",
       "      <td>499</td>\n",
       "      <td>0</td>\n",
       "      <td>0.0</td>\n",
       "      <td>5</td>\n",
       "      <td>3</td>\n",
       "    </tr>\n",
       "    <tr>\n",
       "      <th>...</th>\n",
       "      <td>...</td>\n",
       "      <td>...</td>\n",
       "      <td>...</td>\n",
       "      <td>...</td>\n",
       "      <td>...</td>\n",
       "    </tr>\n",
       "    <tr>\n",
       "      <th>9539107</th>\n",
       "      <td>499</td>\n",
       "      <td>8</td>\n",
       "      <td>878.0</td>\n",
       "      <td>12</td>\n",
       "      <td>1</td>\n",
       "    </tr>\n",
       "    <tr>\n",
       "      <th>9539108</th>\n",
       "      <td>499</td>\n",
       "      <td>8</td>\n",
       "      <td>970.0</td>\n",
       "      <td>12</td>\n",
       "      <td>2</td>\n",
       "    </tr>\n",
       "    <tr>\n",
       "      <th>9539109</th>\n",
       "      <td>499</td>\n",
       "      <td>8</td>\n",
       "      <td>1234.0</td>\n",
       "      <td>12</td>\n",
       "      <td>3</td>\n",
       "    </tr>\n",
       "    <tr>\n",
       "      <th>9539110</th>\n",
       "      <td>499</td>\n",
       "      <td>8</td>\n",
       "      <td>1138.0</td>\n",
       "      <td>12</td>\n",
       "      <td>4</td>\n",
       "    </tr>\n",
       "    <tr>\n",
       "      <th>9539111</th>\n",
       "      <td>499</td>\n",
       "      <td>8</td>\n",
       "      <td>744.0</td>\n",
       "      <td>12</td>\n",
       "      <td>5</td>\n",
       "    </tr>\n",
       "  </tbody>\n",
       "</table>\n",
       "<p>5880 rows × 5 columns</p>\n",
       "</div>"
      ],
      "text/plain": [
       "         meter_id  hour    load  month  day_of_week\n",
       "397218        499     0     0.0      5            6\n",
       "397219        499     0     0.0      5            0\n",
       "397220        499     0     0.0      5            1\n",
       "397221        499     0     0.0      5            2\n",
       "397222        499     0     0.0      5            3\n",
       "...           ...   ...     ...    ...          ...\n",
       "9539107       499     8   878.0     12            1\n",
       "9539108       499     8   970.0     12            2\n",
       "9539109       499     8  1234.0     12            3\n",
       "9539110       499     8  1138.0     12            4\n",
       "9539111       499     8   744.0     12            5\n",
       "\n",
       "[5880 rows x 5 columns]"
      ]
     },
     "execution_count": 70,
     "metadata": {},
     "output_type": "execute_result"
    }
   ],
   "source": [
    "test_df[test_df[\"meter_id\"]==499]"
   ]
  },
  {
   "cell_type": "code",
   "execution_count": 67,
   "metadata": {},
   "outputs": [
    {
     "name": "stdout",
     "output_type": "stream",
     "text": [
      "{4, 5, 166, 486, 270, 84, 186, 446}\n",
      "{499}\n"
     ]
    }
   ],
   "source": [
    "dict_train = train_df.groupby(\"meter_id\")[\"load\"].count().to_dict()\n",
    "dict_test = test_df.groupby(\"meter_id\")[\"load\"].count().to_dict()\n",
    "print(set(list(dict_train.keys())).difference(set(list(dict_test.keys()))))\n",
    "print(set(list(dict_test.keys())).difference(set(list(dict_train.keys()))))"
   ]
  },
  {
   "cell_type": "code",
   "execution_count": 72,
   "metadata": {},
   "outputs": [
    {
     "name": "stdout",
     "output_type": "stream",
     "text": [
      "{4: 15838, 5: 37987, 84: 7295, 166: 16774, 186: 8015, 270: 42355, 446: 18933, 453: 48955, 454: 45283, 455: 45283, 456: 40196, 458: 37268, 468: 26301, 469: 26301, 470: 25557, 472: 22102, 477: 19726, 478: 18982, 481: 15013, 482: 13895, 486: 2232, 491: 9503, 492: 9071, 496: 7343}\n"
     ]
    }
   ],
   "source": [
    "filtered_train = {key: value for key, value in dict_train.items() if value < 51000}\n",
    "print(filtered_train)"
   ]
  },
  {
   "cell_type": "code",
   "execution_count": 76,
   "metadata": {},
   "outputs": [
    {
     "name": "stdout",
     "output_type": "stream",
     "text": [
      "{236: 8016, 499: 5880}\n"
     ]
    }
   ],
   "source": [
    "filtered_test = {key: value for key, value in dict_test.items() if value < 8759}\n",
    "print(filtered_test)"
   ]
  },
  {
   "cell_type": "code",
   "execution_count": 39,
   "metadata": {},
   "outputs": [],
   "source": [
    "def train_historical_averages_baseline(train_df):\n",
    "    meter_historical_averages = train_df.groupby([\"hour\", \"day_of_week\", \"month\", \"meter_id\"]).mean().to_dict()[\"load\"]\n",
    "    time_historical_averages = train_df.groupby([\"hour\", \"day_of_week\", \"month\"]).mean().to_dict()[\"load\"]\n",
    "    return meter_historical_averages, time_historical_averages"
   ]
  },
  {
   "cell_type": "code",
   "execution_count": 81,
   "metadata": {},
   "outputs": [],
   "source": [
    "def get_average(row, meter_historical_averages, time_historical_averages):\n",
    "    try:\n",
    "        return meter_historical_averages[(row[\"hour\"], row[\"day_of_week\"], row[\"month\"], row[\"meter_id\"])]\n",
    "    except KeyError:\n",
    "        return time_historical_averages[(row[\"hour\"], row[\"day_of_week\"], row[\"month\"])]"
   ]
  },
  {
   "cell_type": "code",
   "execution_count": 82,
   "metadata": {},
   "outputs": [],
   "source": [
    "def test_historical_averages_baseline(X_test, meter_historical_averages, time_historical_averages):\n",
    "    X_test[\"load\"] = X_test.apply(lambda row: get_average(row, meter_historical_averages, time_historical_averages), axis=1)\n",
    "    return X_test[\"load\"]"
   ]
  },
  {
   "cell_type": "code",
   "execution_count": 84,
   "metadata": {},
   "outputs": [],
   "source": [
    "train_df = train_df.dropna()\n",
    "test_df = test_df.dropna()\n",
    "y_test = test_df[\"load\"]\n",
    "X_test = test_df.drop(columns=\"load\")"
   ]
  },
  {
   "cell_type": "code",
   "execution_count": 85,
   "metadata": {},
   "outputs": [],
   "source": [
    "meter_historical_averages, time_historical_averages = train_historical_averages_baseline(train_df)"
   ]
  },
  {
   "cell_type": "code",
   "execution_count": 87,
   "metadata": {},
   "outputs": [
    {
     "name": "stdout",
     "output_type": "stream",
     "text": [
      "Root Mean Squared Error on the test set: 119038.104\n",
      "Mean Absolute Error on the test set: 62794.141\n"
     ]
    }
   ],
   "source": [
    "y_pred = test_historical_averages_baseline(X_test, meter_historical_averages, time_historical_averages)\n",
    "pred_df = pd.concat([X_test, y_pred], axis=1)\n",
    "test_df = pd.concat([X_test, y_test], axis=1)\n",
    "y_pred = pred_df.groupby(\"timestamp\").sum()[\"load\"]\n",
    "y_test = test_df.groupby(\"timestamp\").sum()[\"load\"]\n",
    "\n",
    "\n",
    "rmse = np.sqrt(mean_squared_error(y_test, y_pred))\n",
    "mae = mean_absolute_error(y_test, y_pred)\n",
    "print(\"Root Mean Squared Error on the test set: \"+\"{:.3f}\".format(rmse))\n",
    "print(\"Mean Absolute Error on the test set: \"+\"{:.3f}\".format(mae))"
   ]
  },
  {
   "cell_type": "code",
   "execution_count": 58,
   "metadata": {},
   "outputs": [
    {
     "name": "stdout",
     "output_type": "stream",
     "text": [
      "2191       4229.037037\n",
      "2192       4050.925926\n",
      "2193       3768.814815\n",
      "2194       3562.296296\n",
      "2195       3767.846154\n",
      "              ...     \n",
      "9539107    8661.061927\n",
      "9539108    8305.477960\n",
      "9539109    8103.914361\n",
      "9539110    8130.542413\n",
      "9539111    7938.129758\n",
      "Name: load, Length: 1406577, dtype: float64\n",
      "2191       4592.0\n",
      "2192       2499.0\n",
      "2193       3052.0\n",
      "2194       6146.0\n",
      "2195       4543.0\n",
      "            ...  \n",
      "9539107     878.0\n",
      "9539108     970.0\n",
      "9539109    1234.0\n",
      "9539110    1138.0\n",
      "9539111     744.0\n",
      "Name: load, Length: 1406577, dtype: float64\n"
     ]
    }
   ],
   "source": [
    "print(y_pred)\n",
    "print(y_test)"
   ]
  }
 ],
 "metadata": {
  "kernelspec": {
   "display_name": "Python 3",
   "language": "python",
   "name": "python3"
  },
  "language_info": {
   "codemirror_mode": {
    "name": "ipython",
    "version": 3
   },
   "file_extension": ".py",
   "mimetype": "text/x-python",
   "name": "python",
   "nbconvert_exporter": "python",
   "pygments_lexer": "ipython3",
   "version": "3.10.8"
  }
 },
 "nbformat": 4,
 "nbformat_minor": 2
}
