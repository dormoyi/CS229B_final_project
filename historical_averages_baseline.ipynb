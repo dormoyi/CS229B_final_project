{
 "cells": [
  {
   "cell_type": "code",
   "execution_count": 1,
   "metadata": {},
   "outputs": [],
   "source": [
    "import pandas as pd\n",
    "import datetime as dt\n",
    "import numpy as np\n",
    "import matplotlib.pyplot as plt\n",
    "import seaborn as sns\n",
    "from sklearn.metrics import mean_squared_error, mean_absolute_error\n",
    "sns.set_theme(style=\"darkgrid\")"
   ]
  },
  {
   "cell_type": "code",
   "execution_count": 24,
   "metadata": {},
   "outputs": [],
   "source": [
    "load_df = pd.read_csv('data/load.csv')"
   ]
  },
  {
   "cell_type": "code",
   "execution_count": 79,
   "metadata": {},
   "outputs": [],
   "source": [
    "def df_formatting(load_df):\n",
    "    load_df = pd.melt(load_df, id_vars=[\"meter_id\", \"date\"], value_vars=load_df.columns.difference([\"meter_id\", \"date\"]), \n",
    "                                var_name=\"hour\", value_name=\"load\")\n",
    "    load_df[\"hour\"] = load_df[\"hour\"].str.strip(\"h\").astype(int) - 1\n",
    "    load_df[\"timestamp\"] = pd.to_datetime(load_df[\"date\"] + \" \" + load_df[\"hour\"].astype(str) + \":00:00\", format=\"%m/%d/%Y %H:%M:%S\")\n",
    "    load_df[\"meter_id\"] = load_df[\"meter_id\"].astype(int)\n",
    "    load_df['month'] = load_df['timestamp'].dt.month\n",
    "    load_df['day_of_week'] = load_df['timestamp'].dt.dayofweek\n",
    "    load_df['year'] = load_df['timestamp'].dt.year\n",
    "    load_df = load_df.drop(columns=[\"date\"])\n",
    "    return load_df\n",
    "\n",
    "data_df = df_formatting(load_df)"
   ]
  },
  {
   "cell_type": "code",
   "execution_count": 80,
   "metadata": {},
   "outputs": [],
   "source": [
    "def train_test_split(df):\n",
    "    train_df = df[df[\"year\"] < 2011]\n",
    "    test_df = df[df[\"year\"] == 2011]\n",
    "    train_df = train_df.drop(columns=[\"year\"])\n",
    "    test_df = test_df.drop(columns=[\"year\"])\n",
    "    return train_df, test_df\n",
    "train_df, test_df = train_test_split(data_df)"
   ]
  },
  {
   "cell_type": "code",
   "execution_count": 39,
   "metadata": {},
   "outputs": [],
   "source": [
    "def train_historical_averages_baseline(train_df):\n",
    "    meter_historical_averages = train_df.groupby([\"hour\", \"day_of_week\", \"month\", \"meter_id\"]).mean().to_dict()[\"load\"]\n",
    "    time_historical_averages = train_df.groupby([\"hour\", \"day_of_week\", \"month\"]).mean().to_dict()[\"load\"]\n",
    "    return meter_historical_averages, time_historical_averages"
   ]
  },
  {
   "cell_type": "code",
   "execution_count": 81,
   "metadata": {},
   "outputs": [],
   "source": [
    "def get_average(row, meter_historical_averages, time_historical_averages):\n",
    "    try:\n",
    "        return meter_historical_averages[(row[\"hour\"], row[\"day_of_week\"], row[\"month\"], row[\"meter_id\"])]\n",
    "    except KeyError:\n",
    "        return time_historical_averages[(row[\"hour\"], row[\"day_of_week\"], row[\"month\"])]"
   ]
  },
  {
   "cell_type": "code",
   "execution_count": 82,
   "metadata": {},
   "outputs": [],
   "source": [
    "def test_historical_averages_baseline(X_test, meter_historical_averages, time_historical_averages):\n",
    "    X_test[\"load\"] = X_test.apply(lambda row: get_average(row, meter_historical_averages, time_historical_averages), axis=1)\n",
    "    return X_test[\"load\"]"
   ]
  },
  {
   "cell_type": "code",
   "execution_count": 84,
   "metadata": {},
   "outputs": [],
   "source": [
    "train_df = train_df.dropna()\n",
    "test_df = test_df.dropna()\n",
    "y_test = test_df[\"load\"]\n",
    "X_test = test_df.drop(columns=\"load\")"
   ]
  },
  {
   "cell_type": "code",
   "execution_count": 85,
   "metadata": {},
   "outputs": [],
   "source": [
    "meter_historical_averages, time_historical_averages = train_historical_averages_baseline(train_df)"
   ]
  },
  {
   "cell_type": "code",
   "execution_count": 87,
   "metadata": {},
   "outputs": [
    {
     "name": "stdout",
     "output_type": "stream",
     "text": [
      "Root Mean Squared Error on the test set: 119038.104\n",
      "Mean Absolute Error on the test set: 62794.141\n"
     ]
    }
   ],
   "source": [
    "y_pred = test_historical_averages_baseline(X_test, meter_historical_averages, time_historical_averages)\n",
    "pred_df = pd.concat([X_test, y_pred], axis=1)\n",
    "test_df = pd.concat([X_test, y_test], axis=1)\n",
    "y_pred = pred_df.groupby(\"timestamp\").sum()[\"load\"]\n",
    "y_test = test_df.groupby(\"timestamp\").sum()[\"load\"]\n",
    "\n",
    "\n",
    "rmse = np.sqrt(mean_squared_error(y_test, y_pred))\n",
    "mae = mean_absolute_error(y_test, y_pred)\n",
    "print(\"Root Mean Squared Error on the test set: \"+\"{:.3f}\".format(rmse))\n",
    "print(\"Mean Absolute Error on the test set: \"+\"{:.3f}\".format(mae))"
   ]
  }
 ],
 "metadata": {
  "kernelspec": {
   "display_name": "Python 3",
   "language": "python",
   "name": "python3"
  },
  "language_info": {
   "codemirror_mode": {
    "name": "ipython",
    "version": 3
   },
   "file_extension": ".py",
   "mimetype": "text/x-python",
   "name": "python",
   "nbconvert_exporter": "python",
   "pygments_lexer": "ipython3",
   "version": "3.10.8"
  }
 },
 "nbformat": 4,
 "nbformat_minor": 2
}
