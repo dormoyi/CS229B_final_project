{
 "cells": [
  {
   "cell_type": "markdown",
   "metadata": {},
   "source": [
    "# Non-time series baseline"
   ]
  },
  {
   "cell_type": "code",
   "execution_count": 2,
   "metadata": {},
   "outputs": [],
   "source": [
    "import pandas as pd\n",
    "import datetime as dt\n",
    "import numpy as np\n",
    "import matplotlib.pyplot as plt\n",
    "import seaborn as sns\n",
    "from datetime import datetime\n",
    "import holidays\n",
    "sns.set_theme(style=\"darkgrid\")"
   ]
  },
  {
   "cell_type": "markdown",
   "metadata": {},
   "source": [
    "# Data preprocessing and feature engineering"
   ]
  },
  {
   "cell_type": "code",
   "execution_count": 3,
   "metadata": {},
   "outputs": [],
   "source": [
    "load_df = pd.read_csv('data/load.csv')\n",
    "hierarchy_df = pd.read_csv(\"data/hierarchy.csv\")\n",
    "humidity_df = pd.read_csv(\"data/relative humidity.csv\")\n",
    "temperature_df = pd.read_csv(\"data/temperature.csv\")"
   ]
  },
  {
   "cell_type": "code",
   "execution_count": 4,
   "metadata": {},
   "outputs": [],
   "source": [
    "def df_formatting(load_df, hierarchy_df, humidity_df, temperature_df):\n",
    "    load_df = pd.melt(load_df, id_vars=[\"meter_id\", \"date\"], value_vars=load_df.columns.difference([\"meter_id\", \"date\"]), \n",
    "                                var_name=\"hour\", value_name=\"load\")\n",
    "    load_df[\"hour\"] = load_df[\"hour\"].str.strip(\"h\").astype(int) - 1\n",
    "    load_df[\"timestamp\"] = pd.to_datetime(load_df[\"date\"] + \" \" + load_df[\"hour\"].astype(str) + \":00:00\", format=\"%m/%d/%Y %H:%M:%S\")\n",
    "    load_df[\"meter_id\"] = load_df[\"meter_id\"].astype(int)\n",
    "    load_df = load_df.drop(columns=[\"date\", \"hour\"])\n",
    "    data_df = load_df.merge(hierarchy_df, on=\"meter_id\", how=\"left\")\n",
    "    data_df[hierarchy_df.columns.difference([\"meter_id\"])] = data_df[hierarchy_df.columns.difference([\"meter_id\"])].astype(str)\n",
    "    \n",
    "    humidity_df[\"timestamp\"] = pd.to_datetime(humidity_df[\"date\"] + \" \" + (humidity_df[\"hr\"] - 1).astype(str) + \":00:00\", format=\"%d%b%Y %H:%M:%S\")\n",
    "    temperature_df[\"timestamp\"] = pd.to_datetime(temperature_df[\"date\"] + \" \" + (temperature_df[\"hr\"] - 1).astype(str) + \":00:00\", format=\"%d%b%Y %H:%M:%S\")\n",
    "    humidity_df = humidity_df.drop(columns=[\"date\", \"hr\"])\n",
    "    temperature_df = temperature_df.drop(columns=[\"date\", \"hr\"])\n",
    "    data_df = data_df.merge(humidity_df, on=\"timestamp\", how=\"left\")\n",
    "    data_df = data_df.merge(temperature_df, on=\"timestamp\", how=\"left\")\n",
    "    return data_df\n",
    "\n",
    "joined_data_df = df_formatting(load_df, hierarchy_df, humidity_df, temperature_df)"
   ]
  },
  {
   "cell_type": "code",
   "execution_count": 5,
   "metadata": {},
   "outputs": [
    {
     "data": {
      "text/plain": [
       "meter_id              int32\n",
       "load                float64\n",
       "timestamp    datetime64[ns]\n",
       "mid_level            object\n",
       "aggregate            object\n",
       "rh_ws1              float64\n",
       "rh_ws2              float64\n",
       "rh_ws3              float64\n",
       "rh_ws4              float64\n",
       "rh_ws5              float64\n",
       "rh_ws6              float64\n",
       "rh_ws7              float64\n",
       "rh_ws8              float64\n",
       "rh_ws9              float64\n",
       "rh_ws10             float64\n",
       "rh_ws11             float64\n",
       "rh_ws12             float64\n",
       "rh_ws13             float64\n",
       "rh_ws14             float64\n",
       "rh_ws15             float64\n",
       "rh_ws16             float64\n",
       "rh_ws17             float64\n",
       "rh_ws18             float64\n",
       "rh_ws19             float64\n",
       "rh_ws20             float64\n",
       "rh_ws21             float64\n",
       "rh_ws22             float64\n",
       "rh_ws23             float64\n",
       "rh_ws24             float64\n",
       "rh_ws25             float64\n",
       "rh_ws26             float64\n",
       "rh_ws27             float64\n",
       "rh_ws28             float64\n",
       "t_ws1               float64\n",
       "t_ws2               float64\n",
       "t_ws3               float64\n",
       "t_ws4               float64\n",
       "t_ws5               float64\n",
       "t_ws6               float64\n",
       "t_ws7               float64\n",
       "t_ws8               float64\n",
       "t_ws9               float64\n",
       "t_ws10              float64\n",
       "t_ws11              float64\n",
       "t_ws12              float64\n",
       "t_ws13              float64\n",
       "t_ws14              float64\n",
       "t_ws15              float64\n",
       "t_ws16              float64\n",
       "t_ws17              float64\n",
       "t_ws18              float64\n",
       "t_ws19              float64\n",
       "t_ws20              float64\n",
       "t_ws21              float64\n",
       "t_ws22              float64\n",
       "t_ws23              float64\n",
       "t_ws24              float64\n",
       "t_ws25              float64\n",
       "t_ws26              float64\n",
       "t_ws27              float64\n",
       "t_ws28              float64\n",
       "dtype: object"
      ]
     },
     "execution_count": 5,
     "metadata": {},
     "output_type": "execute_result"
    }
   ],
   "source": [
    "pd.set_option('display.max_rows', 100)\n",
    "joined_data_df.dtypes"
   ]
  },
  {
   "cell_type": "code",
   "execution_count": 6,
   "metadata": {},
   "outputs": [],
   "source": [
    "def feature_engineering(df):\n",
    "    # Basic feature engineering: indicator of day of the week, month, is_holiday (in MA), one-hot encoding of hierarchies and of the meter id\n",
    "    df['year'] = df['timestamp'].dt.year\n",
    "    df['month'] = df['timestamp'].dt.month\n",
    "    df['day_of_week'] = df['timestamp'].dt.dayofweek\n",
    "    holidays_MA = holidays.US(years=range(2005, 2012), state=\"MA\")\n",
    "    df['is_holiday'] = df['timestamp'].dt.date.isin(holidays_MA.keys())\n",
    "    #df['holiday_name'] = df.apply(lambda row: \"None\" if not df['is_holiday'] else holidays_MA[row[\"timestamp\"].date()], axis=1): too slow, to be optimized\n",
    "\n",
    "    meter_onehot = pd.get_dummies(df['meter_id'], drop_first=True, prefix=\"meter\")\n",
    "    mid_level_onehot = pd.get_dummies(df['mid_level'], drop_first=True, prefix=\"mid_level\")\n",
    "    aggregate_onehot = pd.get_dummies(df['aggregate'], drop_first=True, prefix=\"aggregate\")\n",
    "    month_onehot = pd.get_dummies(df['month'], drop_first=True, prefix=\"month\")\n",
    "    dow_onehot = pd.get_dummies(df['day_of_week'], drop_first=True, prefix=\"dow\")\n",
    "    df = df.drop(columns=[\"meter_id\", \"mid_level\", \"aggregate\", \"month\", \"day_of_week\"])\n",
    "    features_df = pd.concat([df, meter_onehot, mid_level_onehot, aggregate_onehot, month_onehot, dow_onehot], axis=1)\n",
    "    return features_df\n",
    "\n",
    "transformed_data_df = feature_engineering(joined_data_df)"
   ]
  },
  {
   "cell_type": "code",
   "execution_count": 7,
   "metadata": {},
   "outputs": [
    {
     "data": {
      "text/plain": [
       "Index(['load', 'timestamp', 'rh_ws1', 'rh_ws2', 'rh_ws3', 'rh_ws4', 'rh_ws5',\n",
       "       'rh_ws6', 'rh_ws7', 'rh_ws8',\n",
       "       ...\n",
       "       'month_9', 'month_10', 'month_11', 'month_12', 'dow_1', 'dow_2',\n",
       "       'dow_3', 'dow_4', 'dow_5', 'dow_6'],\n",
       "      dtype='object', length=261)"
      ]
     },
     "execution_count": 7,
     "metadata": {},
     "output_type": "execute_result"
    }
   ],
   "source": [
    "transformed_data_df.columns"
   ]
  },
  {
   "cell_type": "code",
   "execution_count": 9,
   "metadata": {},
   "outputs": [],
   "source": [
    "def train_test_split(transformed_data):\n",
    "    train_df = transformed_data[transformed_data[\"year\"] < 2011]\n",
    "    test_df = transformed_data[transformed_data[\"year\"] == 2012]\n",
    "    return train_df, test_df\n",
    "train_df, test_df = train_test_split(transformed_data_df)"
   ]
  }
 ],
 "metadata": {
  "kernelspec": {
   "display_name": "Python 3",
   "language": "python",
   "name": "python3"
  },
  "language_info": {
   "codemirror_mode": {
    "name": "ipython",
    "version": 3
   },
   "file_extension": ".py",
   "mimetype": "text/x-python",
   "name": "python",
   "nbconvert_exporter": "python",
   "pygments_lexer": "ipython3",
   "version": "3.10.8"
  }
 },
 "nbformat": 4,
 "nbformat_minor": 2
}
