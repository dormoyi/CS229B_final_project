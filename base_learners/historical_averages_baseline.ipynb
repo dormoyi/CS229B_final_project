{
 "cells": [
  {
   "cell_type": "code",
   "execution_count": 1,
   "metadata": {},
   "outputs": [],
   "source": [
    "import pandas as pd\n",
    "import datetime as dt\n",
    "import numpy as np\n",
    "import matplotlib.pyplot as plt\n",
    "import seaborn as sns\n",
    "from sklearn.metrics import mean_squared_error, mean_absolute_error\n",
    "sns.set_theme(style=\"darkgrid\")"
   ]
  },
  {
   "cell_type": "code",
   "execution_count": 2,
   "metadata": {},
   "outputs": [],
   "source": [
    "load_df = pd.read_csv('data/load.csv')\n",
    "hierarchy_df = pd.read_csv(\"data/hierarchy.csv\")"
   ]
  },
  {
   "cell_type": "code",
   "execution_count": 3,
   "metadata": {},
   "outputs": [],
   "source": [
    "def df_formatting(load_df, hierarchy_df):\n",
    "    load_df = pd.melt(load_df, id_vars=[\"meter_id\", \"date\"], value_vars=load_df.columns.difference([\"meter_id\", \"date\"]),\n",
    "                                var_name=\"hour\", value_name=\"load\")\n",
    "    load_df[\"hour\"] = load_df[\"hour\"].str.strip(\"h\").astype(int) - 1\n",
    "    load_df[\"timestamp\"] = pd.to_datetime(load_df[\"date\"] + \" \" + load_df[\"hour\"].astype(str) + \":00:00\", format=\"%m/%d/%Y %H:%M:%S\")\n",
    "    load_df[\"meter_id\"] = load_df[\"meter_id\"].astype(int)\n",
    "    load_df = load_df.drop(columns=[\"date\", \"hour\"])\n",
    "    # Remove meter ids that appear in training but not in test and conversely\n",
    "    aggregate_list = [('max_timestamp', 'max'), ('min_timestamp', 'min')]\n",
    "    meters_df = load_df.groupby(\"meter_id\")[\"timestamp\"].agg(aggregate_list).reset_index()\n",
    "    excluded_meters_df = meters_df[(meters_df[\"max_timestamp\"]<dt.datetime(2011,1,1)) | (meters_df[\"min_timestamp\"]>dt.datetime(2011,1,1))]\n",
    "    excluded_meters = excluded_meters_df[\"meter_id\"].to_list() + [236]\n",
    "    load_df = load_df[~load_df[\"meter_id\"].isin(excluded_meters)]\n",
    "    data_df = load_df.merge(hierarchy_df, on=\"meter_id\", how=\"left\")\n",
    "    return data_df\n",
    "\n",
    "data_df = df_formatting(load_df, hierarchy_df)"
   ]
  },
  {
   "cell_type": "code",
   "execution_count": 4,
   "metadata": {},
   "outputs": [],
   "source": [
    "data_df[\"month\"] = data_df[\"timestamp\"].dt.month\n",
    "data_df[\"day_of_week\"] = data_df[\"timestamp\"].dt.day_name()\n",
    "data_df[\"hour\"] = data_df[\"timestamp\"].dt.hour\n",
    "data_df[\"year\"] = data_df[\"timestamp\"].dt.year"
   ]
  },
  {
   "cell_type": "code",
   "execution_count": 5,
   "metadata": {},
   "outputs": [],
   "source": [
    "def get_datasets(df):\n",
    "  aggregation_dict = {\"load\": \"sum\"}\n",
    "  aggregation_dict.update({col: \"first\" for col in df.columns if col not in [\"load\", \"timestamp\"]})\n",
    "  top_level_df = df.groupby(\"timestamp\").agg(aggregation_dict).reset_index()\n",
    "  top_level_df = top_level_df.drop(columns=[\"meter_id\", \"aggregate\", \"mid_level\", \"timestamp\"])\n",
    "  aggregate_level_names = pd.unique(df[\"aggregate\"])\n",
    "  aggregate_levels = {}\n",
    "  for agg_level in aggregate_level_names:\n",
    "    agg_level_df = df[df[\"aggregate\"] == agg_level].copy()\n",
    "    agg_level_df = agg_level_df.groupby(\"timestamp\").agg(aggregation_dict).reset_index()\n",
    "    agg_level_df = agg_level_df.drop(columns=[\"meter_id\", \"aggregate\", \"mid_level\", \"timestamp\"])\n",
    "    aggregate_levels[agg_level] = agg_level_df\n",
    "  mid_level_names = pd.unique(df[\"mid_level\"])\n",
    "  mid_levels = {}\n",
    "  for mid_level in mid_level_names:\n",
    "    mid_level_df = df[df[\"mid_level\"] == mid_level].copy()\n",
    "    mid_level_df = mid_level_df.copy().groupby(\"timestamp\").agg(aggregation_dict).reset_index()\n",
    "    mid_level_df = mid_level_df.drop(columns=[\"meter_id\", \"aggregate\", \"mid_level\", \"timestamp\"])\n",
    "    mid_levels[mid_level] = mid_level_df\n",
    "  bottom_level_names = pd.unique(df[\"meter_id\"])\n",
    "  bottom_levels = {}\n",
    "  for bottom_level in bottom_level_names:\n",
    "    bottom_level_df = df[df[\"meter_id\"] == bottom_level].copy()\n",
    "    bottom_level_df = bottom_level_df.copy().groupby(\"timestamp\").agg(aggregation_dict).reset_index()\n",
    "    bottom_level_df = bottom_level_df.drop(columns=[\"meter_id\", \"aggregate\", \"mid_level\", \"timestamp\"])\n",
    "    bottom_levels[bottom_level] = bottom_level_df\n",
    "  \n",
    "  return top_level_df, aggregate_levels, mid_levels, bottom_levels"
   ]
  },
  {
   "cell_type": "code",
   "execution_count": 6,
   "metadata": {},
   "outputs": [],
   "source": [
    "top_level_df, aggregate_levels, mid_levels, bottom_levels = get_datasets(data_df)"
   ]
  },
  {
   "cell_type": "code",
   "execution_count": 14,
   "metadata": {},
   "outputs": [],
   "source": [
    "def train_test_split(df):\n",
    "    train_df = df[df[\"year\"] < 2011]\n",
    "    test_df = df[df[\"year\"] == 2011]\n",
    "    train_df = train_df.drop(columns=\"year\")\n",
    "    test_df = test_df.drop(columns=\"year\")\n",
    "    return train_df, test_df\n",
    "top_level_train, top_level_test = train_test_split(top_level_df)\n",
    "aggregate_train = {}\n",
    "aggregate_test = {}\n",
    "mid_levels_train = {}\n",
    "mid_levels_test = {}\n",
    "bottom_levels_train = {}\n",
    "bottom_levels_test = {}\n",
    "for agg in aggregate_levels.keys():\n",
    "  train_df, test_df = train_test_split(aggregate_levels[agg])\n",
    "  aggregate_train[agg] = train_df\n",
    "  aggregate_test[agg] = test_df\n",
    "for mid_level in mid_levels.keys():\n",
    "  train_df, test_df = train_test_split(mid_levels[mid_level])\n",
    "  mid_levels_train[mid_level] = train_df\n",
    "  mid_levels_test[mid_level] = test_df\n",
    "for bottom_level in bottom_levels.keys():\n",
    "  train_df, test_df = train_test_split(bottom_levels[bottom_level])\n",
    "  bottom_levels_train[bottom_level] = train_df\n",
    "  bottom_levels_test[bottom_level] = test_df"
   ]
  },
  {
   "cell_type": "code",
   "execution_count": 13,
   "metadata": {},
   "outputs": [
    {
     "name": "stdout",
     "output_type": "stream",
     "text": [
      "     meter_id   load\n",
      "143       453  48955\n",
      "144       454  45283\n",
      "145       455  45283\n",
      "146       456  40196\n",
      "147       458  37268\n",
      "148       468  26301\n",
      "149       469  26301\n",
      "150       470  25557\n",
      "151       472  22102\n",
      "152       477  19726\n",
      "153       478  18982\n",
      "154       481  15013\n",
      "155       482  13895\n",
      "156       491   9503\n",
      "157       492   9071\n",
      "158       496   7343\n"
     ]
    }
   ],
   "source": [
    "meter_counts = train_df.groupby(\"meter_id\").count()[\"load\"].reset_index()\n",
    "meter_counts = meter_counts[meter_counts[\"load\"] < 52578]\n",
    "print(meter_counts)"
   ]
  },
  {
   "cell_type": "code",
   "execution_count": 8,
   "metadata": {},
   "outputs": [],
   "source": [
    "def train_historical_averages(train_df):\n",
    "    historical_averages = train_df.groupby([\"hour\", \"day_of_week\", \"month\"]).mean().to_dict()[\"load\"]\n",
    "    return historical_averages"
   ]
  },
  {
   "cell_type": "code",
   "execution_count": 9,
   "metadata": {},
   "outputs": [],
   "source": [
    "def get_average(row, historical_averages):\n",
    "    return historical_averages[(row[\"hour\"], row[\"day_of_week\"], row[\"month\"])]"
   ]
  },
  {
   "cell_type": "code",
   "execution_count": 10,
   "metadata": {},
   "outputs": [],
   "source": [
    "def test_historical_averages(X_test, historical_averages):\n",
    "    X_test[\"load\"] = X_test.apply(lambda row: get_average(row, historical_averages), axis=1)\n",
    "    return X_test[\"load\"]"
   ]
  },
  {
   "cell_type": "code",
   "execution_count": 11,
   "metadata": {},
   "outputs": [],
   "source": [
    "top_avgs = train_historical_averages(top_level_train)\n",
    "agg_avgs = {}\n",
    "mid_avgs = {}\n",
    "bottom_avgs = {}\n",
    "for agg in aggregate_train.keys():\n",
    "    agg_avgs[agg] = train_historical_averages(aggregate_train[agg])\n",
    "\n",
    "for mid in mid_levels_train.keys():\n",
    "    mid_avgs[mid] = train_historical_averages(mid_levels_train[mid])\n",
    "\n",
    "for bottom in bottom_levels_train.keys():\n",
    "    bottom_avgs[bottom] = train_historical_averages(bottom_levels_train[bottom])"
   ]
  },
  {
   "cell_type": "markdown",
   "metadata": {},
   "source": [
    "## Evaluate the forecasts"
   ]
  },
  {
   "cell_type": "code",
   "execution_count": 21,
   "metadata": {},
   "outputs": [],
   "source": [
    "accuracies_df = pd.DataFrame(columns=[\"level\", \"id\", \"MAE\", \"RMSE\"])\n",
    "\n",
    "y_top_level_test = top_level_test[\"load\"]\n",
    "y_top_level_pred = test_historical_averages(top_level_test.drop(columns=\"load\"), top_avgs)\n",
    "accuracies_df.loc[len(accuracies_df.index)] = [\"sum\", \"sum\", mean_absolute_error(y_top_level_test, y_top_level_pred), np.sqrt(mean_squared_error(y_top_level_test, y_top_level_pred))]\n",
    "\n",
    "for agg in aggregate_test.keys():\n",
    "    y_agg_level_test = aggregate_test[agg][\"load\"]\n",
    "    y_agg_level_pred = test_historical_averages(aggregate_test[agg].drop(columns=\"load\"), agg_avgs[agg])\n",
    "    accuracies_df.loc[len(accuracies_df.index)] = [\"agg\", agg, mean_absolute_error(y_agg_level_test, y_agg_level_pred), np.sqrt(mean_squared_error(y_agg_level_test, y_agg_level_pred))]\n",
    "\n",
    "for mid in mid_levels_test.keys():\n",
    "    y_mid_level_test = mid_levels_test[mid][\"load\"]\n",
    "    y_mid_level_pred = test_historical_averages(mid_levels_test[mid].drop(columns=\"load\"), mid_avgs[mid])\n",
    "    accuracies_df.loc[len(accuracies_df.index)] = [\"mid\", mid, mean_absolute_error(y_mid_level_test, y_mid_level_pred), np.sqrt(mean_squared_error(y_mid_level_test, y_mid_level_pred))]\n",
    "\n",
    "for bottom in bottom_levels_test.keys():\n",
    "    try:\n",
    "        y_bottom_level_test = bottom_levels_test[bottom][\"load\"]\n",
    "        y_bottom_level_pred = test_historical_averages(bottom_levels_test[bottom].drop(columns=\"load\"), bottom_avgs[bottom])\n",
    "        accuracies_df.loc[len(accuracies_df.index)] = [\"bottom\", bottom, mean_absolute_error(y_bottom_level_test, y_bottom_level_pred), np.sqrt(mean_squared_error(y_bottom_level_test, y_bottom_level_pred))]\n",
    "    except KeyError:\n",
    "        continue"
   ]
  },
  {
   "cell_type": "code",
   "execution_count": 23,
   "metadata": {},
   "outputs": [
    {
     "data": {
      "text/html": [
       "<div>\n",
       "<style scoped>\n",
       "    .dataframe tbody tr th:only-of-type {\n",
       "        vertical-align: middle;\n",
       "    }\n",
       "\n",
       "    .dataframe tbody tr th {\n",
       "        vertical-align: top;\n",
       "    }\n",
       "\n",
       "    .dataframe thead th {\n",
       "        text-align: right;\n",
       "    }\n",
       "</style>\n",
       "<table border=\"1\" class=\"dataframe\">\n",
       "  <thead>\n",
       "    <tr style=\"text-align: right;\">\n",
       "      <th></th>\n",
       "      <th>level</th>\n",
       "      <th>id</th>\n",
       "      <th>MAE</th>\n",
       "      <th>RMSE</th>\n",
       "    </tr>\n",
       "  </thead>\n",
       "  <tbody>\n",
       "    <tr>\n",
       "      <th>0</th>\n",
       "      <td>sum</td>\n",
       "      <td>sum</td>\n",
       "      <td>127518.274559</td>\n",
       "      <td>175257.080084</td>\n",
       "    </tr>\n",
       "    <tr>\n",
       "      <th>1</th>\n",
       "      <td>agg</td>\n",
       "      <td>I003</td>\n",
       "      <td>22696.197586</td>\n",
       "      <td>31838.357822</td>\n",
       "    </tr>\n",
       "    <tr>\n",
       "      <th>2</th>\n",
       "      <td>agg</td>\n",
       "      <td>I002</td>\n",
       "      <td>108445.453600</td>\n",
       "      <td>148931.315171</td>\n",
       "    </tr>\n",
       "    <tr>\n",
       "      <th>3</th>\n",
       "      <td>mid</td>\n",
       "      <td>E001</td>\n",
       "      <td>5521.613433</td>\n",
       "      <td>7574.012561</td>\n",
       "    </tr>\n",
       "    <tr>\n",
       "      <th>4</th>\n",
       "      <td>mid</td>\n",
       "      <td>E002</td>\n",
       "      <td>15262.814643</td>\n",
       "      <td>20909.393395</td>\n",
       "    </tr>\n",
       "    <tr>\n",
       "      <th>...</th>\n",
       "      <td>...</td>\n",
       "      <td>...</td>\n",
       "      <td>...</td>\n",
       "      <td>...</td>\n",
       "    </tr>\n",
       "    <tr>\n",
       "      <th>171</th>\n",
       "      <td>bottom</td>\n",
       "      <td>478</td>\n",
       "      <td>88.123634</td>\n",
       "      <td>159.363365</td>\n",
       "    </tr>\n",
       "    <tr>\n",
       "      <th>172</th>\n",
       "      <td>bottom</td>\n",
       "      <td>481</td>\n",
       "      <td>1033.353186</td>\n",
       "      <td>1409.436396</td>\n",
       "    </tr>\n",
       "    <tr>\n",
       "      <th>173</th>\n",
       "      <td>bottom</td>\n",
       "      <td>482</td>\n",
       "      <td>340.702746</td>\n",
       "      <td>479.579097</td>\n",
       "    </tr>\n",
       "    <tr>\n",
       "      <th>174</th>\n",
       "      <td>bottom</td>\n",
       "      <td>491</td>\n",
       "      <td>3515.952885</td>\n",
       "      <td>4752.629684</td>\n",
       "    </tr>\n",
       "    <tr>\n",
       "      <th>175</th>\n",
       "      <td>bottom</td>\n",
       "      <td>492</td>\n",
       "      <td>213.603528</td>\n",
       "      <td>428.522898</td>\n",
       "    </tr>\n",
       "  </tbody>\n",
       "</table>\n",
       "<p>176 rows × 4 columns</p>\n",
       "</div>"
      ],
      "text/plain": [
       "      level    id            MAE           RMSE\n",
       "0       sum   sum  127518.274559  175257.080084\n",
       "1       agg  I003   22696.197586   31838.357822\n",
       "2       agg  I002  108445.453600  148931.315171\n",
       "3       mid  E001    5521.613433    7574.012561\n",
       "4       mid  E002   15262.814643   20909.393395\n",
       "..      ...   ...            ...            ...\n",
       "171  bottom   478      88.123634     159.363365\n",
       "172  bottom   481    1033.353186    1409.436396\n",
       "173  bottom   482     340.702746     479.579097\n",
       "174  bottom   491    3515.952885    4752.629684\n",
       "175  bottom   492     213.603528     428.522898\n",
       "\n",
       "[176 rows x 4 columns]"
      ]
     },
     "execution_count": 23,
     "metadata": {},
     "output_type": "execute_result"
    }
   ],
   "source": [
    "accuracies_df"
   ]
  },
  {
   "cell_type": "code",
   "execution_count": 24,
   "metadata": {},
   "outputs": [
    {
     "data": {
      "text/html": [
       "<div>\n",
       "<style scoped>\n",
       "    .dataframe tbody tr th:only-of-type {\n",
       "        vertical-align: middle;\n",
       "    }\n",
       "\n",
       "    .dataframe tbody tr th {\n",
       "        vertical-align: top;\n",
       "    }\n",
       "\n",
       "    .dataframe thead th {\n",
       "        text-align: right;\n",
       "    }\n",
       "</style>\n",
       "<table border=\"1\" class=\"dataframe\">\n",
       "  <thead>\n",
       "    <tr style=\"text-align: right;\">\n",
       "      <th></th>\n",
       "      <th>MAE</th>\n",
       "      <th>RMSE</th>\n",
       "    </tr>\n",
       "    <tr>\n",
       "      <th>level</th>\n",
       "      <th></th>\n",
       "      <th></th>\n",
       "    </tr>\n",
       "  </thead>\n",
       "  <tbody>\n",
       "    <tr>\n",
       "      <th>agg</th>\n",
       "      <td>65570.825593</td>\n",
       "      <td>90384.836497</td>\n",
       "    </tr>\n",
       "    <tr>\n",
       "      <th>bottom</th>\n",
       "      <td>1139.278802</td>\n",
       "      <td>1512.280226</td>\n",
       "    </tr>\n",
       "    <tr>\n",
       "      <th>mid</th>\n",
       "      <td>9587.519579</td>\n",
       "      <td>13178.393004</td>\n",
       "    </tr>\n",
       "    <tr>\n",
       "      <th>sum</th>\n",
       "      <td>127518.274559</td>\n",
       "      <td>175257.080084</td>\n",
       "    </tr>\n",
       "  </tbody>\n",
       "</table>\n",
       "</div>"
      ],
      "text/plain": [
       "                  MAE           RMSE\n",
       "level                               \n",
       "agg      65570.825593   90384.836497\n",
       "bottom    1139.278802    1512.280226\n",
       "mid       9587.519579   13178.393004\n",
       "sum     127518.274559  175257.080084"
      ]
     },
     "execution_count": 24,
     "metadata": {},
     "output_type": "execute_result"
    }
   ],
   "source": [
    "accuracies_df.groupby(\"level\")[[\"MAE\", \"RMSE\"]].mean()"
   ]
  }
 ],
 "metadata": {
  "kernelspec": {
   "display_name": "Python 3",
   "language": "python",
   "name": "python3"
  },
  "language_info": {
   "codemirror_mode": {
    "name": "ipython",
    "version": 3
   },
   "file_extension": ".py",
   "mimetype": "text/x-python",
   "name": "python",
   "nbconvert_exporter": "python",
   "pygments_lexer": "ipython3",
   "version": "3.10.8"
  }
 },
 "nbformat": 4,
 "nbformat_minor": 2
}
